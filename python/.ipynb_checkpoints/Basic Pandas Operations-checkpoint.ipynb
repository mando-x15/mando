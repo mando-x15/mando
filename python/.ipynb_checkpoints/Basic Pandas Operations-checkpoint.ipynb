{
 "cells": [
  {
   "cell_type": "markdown",
   "id": "4636d67b",
   "metadata": {},
   "source": [
    "# Basic Pandas Operations\n",
    "\n",
    "The DataFrame is conceptually a two-dimensional series object, where there's an index and multiple columns of content, with each column having a label. In fact, the distinction between a column and a row is really only a conceptual distinction. And you can think of the DataFrame itself as simply a two-axes labeled array."
   ]
  },
  {
   "cell_type": "code",
   "execution_count": 3,
   "id": "e4711e17",
   "metadata": {},
   "outputs": [],
   "source": [
    "import numpy as np\n",
    "import pandas as pd"
   ]
  },
  {
   "cell_type": "code",
   "execution_count": 14,
   "id": "fb90bc55",
   "metadata": {},
   "outputs": [],
   "source": [
    "def header(msg):\n",
    "\t#print('-' * 50)\n",
    "\tprint('[ ' + msg + ' ]')"
   ]
  },
  {
   "cell_type": "code",
   "execution_count": 4,
   "id": "1aa596e6",
   "metadata": {},
   "outputs": [
    {
     "name": "stdout",
     "output_type": "stream",
     "text": [
      "   month  avg_high  avg_low  record_high  record_low  avg_precipitation\n",
      "0    Jan        58       42           74          22               2.95\n",
      "1    Feb        61       45           78          26               3.02\n",
      "2    Mar        65       48           84          25               2.34\n",
      "3    Apr        67       50           92          28               1.02\n",
      "4    May        71       53           98          35               0.48\n",
      "5    Jun        75       56          107          41               0.11\n",
      "6    Jul        77       58          105          44               0.00\n",
      "7    Aug        77       59          102          43               0.03\n",
      "8    Sep        77       57          103          40               0.17\n",
      "9    Oct        73       54           96          34               0.81\n",
      "10   Nov        64       48           84          30               1.70\n",
      "11   Dec        58       42           73          21               2.56\n"
     ]
    }
   ],
   "source": [
    "#Read text file into a dataframe\n",
    "filename = 'Fremont_weather.txt'\n",
    "df = pd.read_csv(filename)\n",
    "print(df)"
   ]
  },
  {
   "cell_type": "code",
   "execution_count": 6,
   "id": "f264a4bb",
   "metadata": {},
   "outputs": [
    {
     "name": "stdout",
     "output_type": "stream",
     "text": [
      "  month  avg_high  avg_low  record_high  record_low  avg_precipitation\n",
      "0   Jan        58       42           74          22               2.95\n",
      "1   Feb        61       45           78          26               3.02\n",
      "2   Mar        65       48           84          25               2.34\n",
      "3   Apr        67       50           92          28               1.02\n",
      "4   May        71       53           98          35               0.48\n",
      "\n",
      "   month  avg_high  avg_low  record_high  record_low  avg_precipitation\n",
      "9    Oct        73       54           96          34               0.81\n",
      "10   Nov        64       48           84          30               1.70\n",
      "11   Dec        58       42           73          21               2.56\n"
     ]
    }
   ],
   "source": [
    "# Print first 5 or last 3 rows of df\n",
    "print(df.head())\n",
    "print(\"\")\n",
    "print(df.tail(3))"
   ]
  },
  {
   "cell_type": "code",
   "execution_count": 15,
   "id": "1411efb9",
   "metadata": {},
   "outputs": [
    {
     "name": "stdout",
     "output_type": "stream",
     "text": [
      "[ df.dtypes ]\n",
      "month                 object\n",
      "avg_high               int64\n",
      "avg_low                int64\n",
      "record_high            int64\n",
      "record_low             int64\n",
      "avg_precipitation    float64\n",
      "dtype: object\n",
      " \n",
      "[ df.index ]\n",
      "RangeIndex(start=0, stop=12, step=1)\n",
      " \n",
      "[ df.columns ]\n",
      "Index(['month', 'avg_high', 'avg_low', 'record_high', 'record_low',\n",
      "       'avg_precipitation'],\n",
      "      dtype='object')\n",
      " \n",
      "[ df.values ]\n",
      "[['Jan' 58 42 74 22 2.95]\n",
      " ['Feb' 61 45 78 26 3.02]\n",
      " ['Mar' 65 48 84 25 2.34]\n",
      " ['Apr' 67 50 92 28 1.02]\n",
      " ['May' 71 53 98 35 0.48]\n",
      " ['Jun' 75 56 107 41 0.11]\n",
      " ['Jul' 77 58 105 44 0.0]\n",
      " ['Aug' 77 59 102 43 0.03]\n",
      " ['Sep' 77 57 103 40 0.17]\n",
      " ['Oct' 73 54 96 34 0.81]\n",
      " ['Nov' 64 48 84 30 1.7]\n",
      " ['Dec' 58 42 73 21 2.56]]\n",
      " \n"
     ]
    }
   ],
   "source": [
    "# Get data types, index, columns, values\n",
    "header(\"df.dtypes\")\n",
    "print(df.dtypes); print(\" \")\n",
    "\n",
    "header(\"df.index\")\n",
    "print(df.index); print(\" \")\n",
    "\n",
    "header(\"df.columns\")\n",
    "print(df.columns); print(\" \")\n",
    "\n",
    "header(\"df.values\")\n",
    "print(df.values); print(\" \")"
   ]
  },
  {
   "cell_type": "code",
   "execution_count": 20,
   "id": "61f93647",
   "metadata": {},
   "outputs": [
    {
     "name": "stdout",
     "output_type": "stream",
     "text": [
      "[ df.describe() ]\n",
      "\n",
      "         avg_high    avg_low  record_high  record_low  avg_precipitation\n",
      "count  12.000000  12.000000    12.000000   12.000000          12.000000\n",
      "mean   68.583333  51.000000    91.333333   32.416667           1.265833\n",
      "std     7.366488   6.060303    12.323911    8.240238           1.186396\n",
      "min    58.000000  42.000000    73.000000   21.000000           0.000000\n",
      "25%    63.250000  47.250000    82.500000   25.750000           0.155000\n",
      "50%    69.000000  51.500000    94.000000   32.000000           0.915000\n",
      "75%    75.500000  56.250000   102.250000   40.250000           2.395000\n",
      "max    77.000000  59.000000   107.000000   44.000000           3.020000 \n",
      "\n"
     ]
    }
   ],
   "source": [
    "# Statistical summary of each column\n",
    "header(\"df.describe()\")\n",
    "print(\"\\n\", df.describe(), \"\\n\")"
   ]
  },
  {
   "cell_type": "code",
   "execution_count": 24,
   "id": "e3e97d0f",
   "metadata": {},
   "outputs": [
    {
     "name": "stdout",
     "output_type": "stream",
     "text": [
      "[ df.sort_values('record_high', ascending=False) ]\n",
      "\n",
      "    month  avg_high  avg_low  record_high  record_low  avg_precipitation\n",
      "5    Jun        75       56          107          41               0.11\n",
      "6    Jul        77       58          105          44               0.00\n",
      "8    Sep        77       57          103          40               0.17\n",
      "7    Aug        77       59          102          43               0.03\n",
      "4    May        71       53           98          35               0.48\n",
      "9    Oct        73       54           96          34               0.81\n",
      "3    Apr        67       50           92          28               1.02\n",
      "2    Mar        65       48           84          25               2.34\n",
      "10   Nov        64       48           84          30               1.70\n",
      "1    Feb        61       45           78          26               3.02\n",
      "0    Jan        58       42           74          22               2.95\n",
      "11   Dec        58       42           73          21               2.56 \n",
      "\n"
     ]
    }
   ],
   "source": [
    "# Sort records by any column\n",
    "header(\"df.sort_values('record_high', ascending=False)\")\n",
    "print (\"\\n\", df.sort_values('record_high', ascending=False), \"\\n\")"
   ]
  },
  {
   "cell_type": "markdown",
   "id": "53256056",
   "metadata": {},
   "source": [
    "## Slicing Operations"
   ]
  },
  {
   "cell_type": "code",
   "execution_count": 29,
   "id": "54964d4a",
   "metadata": {},
   "outputs": [
    {
     "name": "stdout",
     "output_type": "stream",
     "text": [
      "[ Slicing -- df.avg_low ]\n",
      "0     42\n",
      "1     45\n",
      "2     48\n",
      "3     50\n",
      "4     53\n",
      "5     56\n",
      "6     58\n",
      "7     59\n",
      "8     57\n",
      "9     54\n",
      "10    48\n",
      "11    42\n",
      "Name: avg_low, dtype: int64\n",
      " \n",
      "[ Slicing -- df[avg_low] ]\n",
      "0     42\n",
      "1     45\n",
      "2     48\n",
      "3     50\n",
      "4     53\n",
      "5     56\n",
      "6     58\n",
      "7     59\n",
      "8     57\n",
      "9     54\n",
      "10    48\n",
      "11    42\n",
      "Name: avg_low, dtype: int64\n"
     ]
    }
   ],
   "source": [
    "# Slicing records\n",
    "header(\"Slicing -- df.avg_low\")\n",
    "print(df.avg_low) # index with single column\n",
    "print(\" \")\n",
    "header(\"Slicing -- df[avg_low]\")\n",
    "print(df['avg_low'])"
   ]
  },
  {
   "cell_type": "markdown",
   "id": "99a888ec",
   "metadata": {},
   "source": [
    "Note: `df.avg_low` == `df[avg_low]`"
   ]
  },
  {
   "cell_type": "code",
   "execution_count": 30,
   "id": "8704b133",
   "metadata": {},
   "outputs": [
    {
     "name": "stdout",
     "output_type": "stream",
     "text": [
      "[ Slicing -- df[2:4] ]\n",
      "  month  avg_high  avg_low  record_high  record_low  avg_precipitation\n",
      "2   Mar        65       48           84          25               2.34\n",
      "3   Apr        67       50           92          28               1.02\n"
     ]
    }
   ],
   "source": [
    "header(\"Slicing -- df[2:4]\") # index with single column\n",
    "print(df[2:4]) # rows 2 to 3"
   ]
  },
  {
   "cell_type": "markdown",
   "id": "b4509d9a",
   "metadata": {},
   "source": [
    "Note: This will return rows 2 & 3, which is consistent with python indexing notation"
   ]
  },
  {
   "cell_type": "code",
   "execution_count": 31,
   "id": "09806fcf",
   "metadata": {},
   "outputs": [
    {
     "name": "stdout",
     "output_type": "stream",
     "text": [
      "[ Slicing -- df.loc[:,['avg_low','avg_high']] ]\n",
      "    avg_low  avg_high\n",
      "0        42        58\n",
      "1        45        61\n",
      "2        48        65\n",
      "3        50        67\n",
      "4        53        71\n",
      "5        56        75\n",
      "6        58        77\n",
      "7        59        77\n",
      "8        57        77\n",
      "9        54        73\n",
      "10       48        64\n",
      "11       42        58\n"
     ]
    }
   ],
   "source": [
    "header(\"Slicing -- df.loc[:,['avg_low','avg_high']]\")\n",
    "print(df.loc[:,['avg_low','avg_high']])\n"
   ]
  },
  {
   "cell_type": "markdown",
   "id": "ef3fba09",
   "metadata": {},
   "source": [
    "Multiple columns: `df.loc[from_row:to_row,['column1','column2']]`"
   ]
  },
  {
   "cell_type": "code",
   "execution_count": 32,
   "id": "0a3496fb",
   "metadata": {},
   "outputs": [
    {
     "name": "stdout",
     "output_type": "stream",
     "text": [
      "[ Slicing scalar value -- df.loc[9,['avg_precipitation']] ]\n",
      "avg_precipitation    0.81\n",
      "Name: 9, dtype: object\n"
     ]
    }
   ],
   "source": [
    "header(\"Slicing scalar value -- df.loc[9,['avg_precipitation']]\")\n",
    "print(df.loc[9,['avg_precipitation']])"
   ]
  },
  {
   "cell_type": "markdown",
   "id": "b83319f7",
   "metadata": {},
   "source": [
    "Here we specify the row number and the column"
   ]
  },
  {
   "cell_type": "code",
   "execution_count": 34,
   "id": "6aa730ca",
   "metadata": {},
   "outputs": [
    {
     "name": "stdout",
     "output_type": "stream",
     "text": [
      "[ df.iloc[3:5,[0,3]] ]\n",
      "\n",
      "   month  record_high\n",
      "3   Apr           92\n",
      "4   May           98 \n",
      "\n"
     ]
    }
   ],
   "source": [
    "header(\"df.iloc[3:5,[0,3]]\")# \n",
    "print(\"\\n\", df.iloc[3:5,[0,3]], \"\\n\")"
   ]
  },
  {
   "cell_type": "markdown",
   "id": "27a9264c",
   "metadata": {},
   "source": [
    "`df.iloc` allows you to use numerical indicies"
   ]
  },
  {
   "cell_type": "markdown",
   "id": "7a8b7e24",
   "metadata": {},
   "source": [
    "## Filtering"
   ]
  },
  {
   "cell_type": "code",
   "execution_count": 35,
   "id": "cdf2a107",
   "metadata": {},
   "outputs": [
    {
     "name": "stdout",
     "output_type": "stream",
     "text": [
      "[ df[df.avg_precipitation > 1.0] ]\n",
      "   month  avg_high  avg_low  record_high  record_low  avg_precipitation\n",
      "0    Jan        58       42           74          22               2.95\n",
      "1    Feb        61       45           78          26               3.02\n",
      "2    Mar        65       48           84          25               2.34\n",
      "3    Apr        67       50           92          28               1.02\n",
      "10   Nov        64       48           84          30               1.70\n",
      "11   Dec        58       42           73          21               2.56\n"
     ]
    }
   ],
   "source": [
    "header(\"df[df.avg_precipitation > 1.0]\")\n",
    "print(df[df.avg_precipitation > 1.0])"
   ]
  },
  {
   "cell_type": "markdown",
   "id": "41d9d25f",
   "metadata": {},
   "source": [
    "Filter on column values. Note the square bracket and dot operator. Inner bracket returns boolean."
   ]
  },
  {
   "cell_type": "code",
   "execution_count": 37,
   "id": "3c9f87c4",
   "metadata": {},
   "outputs": [
    {
     "name": "stdout",
     "output_type": "stream",
     "text": [
      "[ df[df['month'].isin['Jun','Jul','Aug']] ]\n",
      "  month  avg_high  avg_low  record_high  record_low  avg_precipitation\n",
      "5   Jun        75       56          107          41               0.11\n",
      "6   Jul        77       58          105          44               0.00\n",
      "7   Aug        77       59          102          43               0.03\n"
     ]
    }
   ],
   "source": [
    "header(\"df[df['month'].isin['Jun','Jul','Aug']]\")\n",
    "print(df[df['month'].isin(['Jun','Jul','Aug'])])"
   ]
  },
  {
   "cell_type": "markdown",
   "id": "608dea5a",
   "metadata": {},
   "source": [
    "Another way to filter is via `.isin` function. Again uses boolean indexing "
   ]
  },
  {
   "cell_type": "markdown",
   "id": "f192176c",
   "metadata": {},
   "source": [
    "## Assignment"
   ]
  },
  {
   "cell_type": "code",
   "execution_count": 39,
   "id": "f1fed65d",
   "metadata": {},
   "outputs": [
    {
     "name": "stdout",
     "output_type": "stream",
     "text": [
      "[ df.loc[9,['avg_precipitation']] = 101.3 ]\n",
      "   month  avg_high  avg_low  record_high  record_low  avg_precipitation\n",
      "9    Oct        73       54           96          34              101.3\n",
      "10   Nov        64       48           84          30                1.7\n"
     ]
    }
   ],
   "source": [
    "# Assignment -- very similar to slicing\n",
    "header(\"df.loc[9,['avg_precipitation']] = 101.3\")\n",
    "df.loc[9,['avg_precipitation']] = 101.3\n",
    "print(df.iloc[9:11])"
   ]
  },
  {
   "cell_type": "markdown",
   "id": "17c72ea3",
   "metadata": {},
   "source": [
    "Assigns specific scalar value to a single cell in the array -- note usage of square brackets."
   ]
  },
  {
   "cell_type": "code",
   "execution_count": 40,
   "id": "16be352e",
   "metadata": {},
   "outputs": [
    {
     "name": "stdout",
     "output_type": "stream",
     "text": [
      "[ df.loc[9,['avg_precipitation']] = np.nan ]\n",
      "   month  avg_high  avg_low  record_high  record_low  avg_precipitation\n",
      "9    Oct        73       54           96          34                NaN\n",
      "10   Nov        64       48           84          30                1.7\n"
     ]
    }
   ],
   "source": [
    "# NAN assignment\n",
    "header(\"df.loc[9,['avg_precipitation']] = np.nan\")\n",
    "df.loc[9,['avg_precipitation']] = np.nan\n",
    "print(df.iloc[9:11])"
   ]
  },
  {
   "cell_type": "markdown",
   "id": "f3161e7a",
   "metadata": {},
   "source": [
    "When python sees `NaN` it will automatically skip that value. Assigning values to `NaN` is a good way to avoid errors"
   ]
  },
  {
   "cell_type": "code",
   "execution_count": 41,
   "id": "c3844d0c",
   "metadata": {},
   "outputs": [
    {
     "name": "stdout",
     "output_type": "stream",
     "text": [
      "[ df.loc[:,'avg_low'] = np.array([5] * len(df)) ]\n",
      "  month  avg_high  avg_low  record_high  record_low  avg_precipitation\n",
      "0   Jan        58        5           74          22               2.95\n",
      "1   Feb        61        5           78          26               3.02\n",
      "2   Mar        65        5           84          25               2.34\n",
      "3   Apr        67        5           92          28               1.02\n",
      "4   May        71        5           98          35               0.48\n"
     ]
    }
   ],
   "source": [
    "# Assign all rows of `avg_low` to a new value\n",
    "header(\"df.loc[:,'avg_low'] = np.array([5] * len(df))\")\n",
    "df.loc[:,'avg_low'] = np.array([5] * len(df))\n",
    "print(df.head())"
   ]
  },
  {
   "cell_type": "markdown",
   "id": "41e9497f",
   "metadata": {},
   "source": [
    "Note: Assignment of `np.array([5] * len(df)) == df.loc[:,'avg_low'] = 5`. The `[5]` is an array of a single value then it is replicated to length `len(df)`.  "
   ]
  },
  {
   "cell_type": "code",
   "execution_count": 49,
   "id": "f8c3b52f",
   "metadata": {},
   "outputs": [
    {
     "name": "stdout",
     "output_type": "stream",
     "text": [
      "[ df['avg_day'] = (df.avg_low + df.avg_high) / 2 ]\n",
      "  month  avg_high  avg_low  record_high  record_low  avg_precipitation  \\\n",
      "0   Jan        58        5           74          22               2.95   \n",
      "1   Feb        61        5           78          26               3.02   \n",
      "2   Mar        65        5           84          25               2.34   \n",
      "3   Apr        67        5           92          28               1.02   \n",
      "4   May        71        5           98          35               0.48   \n",
      "\n",
      "   avg_day  \n",
      "0     31.5  \n",
      "1     33.0  \n",
      "2     35.0  \n",
      "3     36.0  \n",
      "4     38.0  \n"
     ]
    }
   ],
   "source": [
    "# Create new column that averages two other columns\n",
    "header(\"df['avg_day'] = (df.avg_low + df.avg_high) / 2\")\n",
    "df['avg_day'] = (df.avg_low + df.avg_high) / 2\n",
    "print(df.head())"
   ]
  },
  {
   "cell_type": "markdown",
   "id": "5c849281",
   "metadata": {},
   "source": [
    "## Renaming Columns"
   ]
  },
  {
   "cell_type": "code",
   "execution_count": 51,
   "id": "6702e30d",
   "metadata": {},
   "outputs": [
    {
     "name": "stdout",
     "output_type": "stream",
     "text": [
      "[ df.rename(columns = {'avg_precipitation':'avg_rain'}, inplace=True) ]\n",
      "  month  avg_high  avg_low  record_high  record_low  avg_rain  avg_day\n",
      "0   Jan        58        5           74          22      2.95     31.5\n",
      "1   Feb        61        5           78          26      3.02     33.0\n",
      "2   Mar        65        5           84          25      2.34     35.0\n",
      "3   Apr        67        5           92          28      1.02     36.0\n",
      "4   May        71        5           98          35      0.48     38.0\n"
     ]
    }
   ],
   "source": [
    "# Rename a single column\n",
    "header(\"df.rename(columns = {'avg_precipitation':'avg_rain'}, inplace=True)\")\n",
    "df.rename(columns = {'avg_precipitation':'avg_rain'}, inplace=True)\n",
    "print(df.head())"
   ]
  },
  {
   "cell_type": "markdown",
   "id": "b0c21df6",
   "metadata": {},
   "source": [
    "Note: Either use `inplace=True`, or set `df = df.rename...` to make sure the changes are saved."
   ]
  },
  {
   "cell_type": "code",
   "execution_count": 52,
   "id": "56b4a73c",
   "metadata": {},
   "outputs": [
    {
     "name": "stdout",
     "output_type": "stream",
     "text": [
      "[ df.columns = ['month','av_hi','av_lo','rec_hi','rec_lo','av_rain','av_day'] ]\n",
      "  month  av_hi  av_lo  rec_hi  rec_lo  av_rain  av_day\n",
      "0   Jan     58      5      74      22     2.95    31.5\n",
      "1   Feb     61      5      78      26     3.02    33.0\n",
      "2   Mar     65      5      84      25     2.34    35.0\n",
      "3   Apr     67      5      92      28     1.02    36.0\n",
      "4   May     71      5      98      35     0.48    38.0\n"
     ]
    }
   ],
   "source": [
    "# Change all column names\n",
    "header(\"df.columns = ['month','av_hi','av_lo','rec_hi','rec_lo','av_rain','av_day']\")\n",
    "df.columns = ['month','av_hi','av_lo','rec_hi','rec_lo','av_rain','av_day']\n",
    "print(df.head())"
   ]
  },
  {
   "cell_type": "markdown",
   "id": "a768c2c9",
   "metadata": {},
   "source": [
    "## Iterate a DF"
   ]
  },
  {
   "cell_type": "code",
   "execution_count": 54,
   "id": "318b7686",
   "metadata": {},
   "outputs": [
    {
     "name": "stdout",
     "output_type": "stream",
     "text": [
      "   month  avg_high  avg_low  record_high  record_low  avg_precipitation\n",
      "0    Jan        58       42           74          22               2.95\n",
      "1    Feb        61       45           78          26               3.02\n",
      "2    Mar        65       48           84          25               2.34\n",
      "3    Apr        67       50           92          28               1.02\n",
      "4    May        71       53           98          35               0.48\n",
      "5    Jun        75       56          107          41               0.11\n",
      "6    Jul        77       58          105          44               0.00\n",
      "7    Aug        77       59          102          43               0.03\n",
      "8    Sep        77       57          103          40               0.17\n",
      "9    Oct        73       54           96          34               0.81\n",
      "10   Nov        64       48           84          30               1.70\n",
      "11   Dec        58       42           73          21               2.56\n"
     ]
    }
   ],
   "source": [
    "# Reload text file into dataframe\n",
    "filename = 'Fremont_weather.txt'\n",
    "df = pd.read_csv(filename)\n",
    "print(df)"
   ]
  },
  {
   "cell_type": "code",
   "execution_count": 58,
   "id": "8c56565d",
   "metadata": {},
   "outputs": [
    {
     "name": "stdout",
     "output_type": "stream",
     "text": [
      "[ iterate rows of df with a for loop ]\n",
      "\n",
      "\n",
      "0 Jan 58\n",
      "1 Feb 61\n",
      "2 Mar 65\n",
      "3 Apr 67\n",
      "4 May 71\n",
      "5 Jun 75\n",
      "6 Jul 77\n",
      "7 Aug 77\n",
      "8 Sep 77\n",
      "9 Oct 73\n",
      "10 Nov 64\n",
      "11 Dec 58\n"
     ]
    }
   ],
   "source": [
    "# Iterate a df\n",
    "header(\"iterate rows of df with a for loop\")\n",
    "print(\"\\n\")\n",
    "for index, row in df.iterrows():\n",
    "    print (index, row[\"month\"], row[\"avg_high\"])"
   ]
  },
  {
   "cell_type": "markdown",
   "id": "20657e67",
   "metadata": {},
   "source": [
    "Shouldnt need to use this very often, better to use built-in functions."
   ]
  },
  {
   "cell_type": "markdown",
   "id": "21b6644e",
   "metadata": {},
   "source": [
    "## Write to CSV"
   ]
  },
  {
   "cell_type": "code",
   "execution_count": 59,
   "id": "c73c7491",
   "metadata": {},
   "outputs": [],
   "source": [
    "# write to csv file\n",
    "df.to_csv('foo.csv')"
   ]
  },
  {
   "cell_type": "code",
   "execution_count": null,
   "id": "7df607fe",
   "metadata": {},
   "outputs": [],
   "source": []
  }
 ],
 "metadata": {
  "kernelspec": {
   "display_name": "Python 3",
   "language": "python",
   "name": "python3"
  },
  "language_info": {
   "codemirror_mode": {
    "name": "ipython",
    "version": 3
   },
   "file_extension": ".py",
   "mimetype": "text/x-python",
   "name": "python",
   "nbconvert_exporter": "python",
   "pygments_lexer": "ipython3",
   "version": "3.6.13"
  }
 },
 "nbformat": 4,
 "nbformat_minor": 5
}
